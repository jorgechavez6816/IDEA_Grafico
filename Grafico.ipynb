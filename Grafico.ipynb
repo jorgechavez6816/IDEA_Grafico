{
 "cells": [
  {
   "cell_type": "code",
   "execution_count": 34,
   "metadata": {},
   "outputs": [],
   "source": [
    "#Trabajo sobre una tabla resumen de Vendedor y Total de Ejemplo-Detalle de Ventas.IMD\n",
    "\n",
    "import win32com.client as win32ComClient\n",
    "\n",
    "if __name__ == \"__main__\":\n",
    "    try:\n",
    "        dbName = \"Resumen01.IMD\"\n",
    "        idea = win32ComClient.Dispatch(dispatch=\"Idea.IdeaClient\")\n",
    "        db = idea.OpenDatabase(dbName)\n",
    "        task = db.ChartData()\n",
    "        task.ChartTitle=(\"Resumen_Ventas_Producto\")\n",
    "        task.XFieldTitle=(\"Vendedores\")\n",
    "        task.YFieldTitle=(\"Total Ventas\")\n",
    "        task.SnapShot=True\n",
    "        task.NoOfSeries=1\n",
    "        task.ChartType=1\n",
    "        task.Show3DChart=True\n",
    "        task.ShowGrids=False\n",
    "        task.Legend=False\n",
    "        task.NumOfRecords=16\n",
    "        task.XFieldName=(\"NUM_VENDEDOR\")\n",
    "        task.AddYFieldName(\"TOTAL_SUMA\")\n",
    "        task.ResultName = db.UniqueResultName(\"Grafico_01\")\n",
    "        task.PerformTask()\n",
    "    finally:\n",
    "        task = None\n",
    "        db = None\n",
    "        idea = None\n",
    "        \n",
    "    "
   ]
  },
  {
   "cell_type": "code",
   "execution_count": null,
   "metadata": {},
   "outputs": [],
   "source": []
  }
 ],
 "metadata": {
  "kernelspec": {
   "display_name": "Python 3",
   "language": "python",
   "name": "python3"
  },
  "language_info": {
   "codemirror_mode": {
    "name": "ipython",
    "version": 3
   },
   "file_extension": ".py",
   "mimetype": "text/x-python",
   "name": "python",
   "nbconvert_exporter": "python",
   "pygments_lexer": "ipython3",
   "version": "3.7.6"
  }
 },
 "nbformat": 4,
 "nbformat_minor": 4
}
